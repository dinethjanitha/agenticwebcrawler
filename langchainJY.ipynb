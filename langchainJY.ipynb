{
 "cells": [
  {
   "cell_type": "code",
   "execution_count": 1,
   "id": "3368abd6",
   "metadata": {},
   "outputs": [
    {
     "data": {
      "text/plain": [
       "'Hello world'"
      ]
     },
     "execution_count": 1,
     "metadata": {},
     "output_type": "execute_result"
    }
   ],
   "source": [
    "\"Hello world\""
   ]
  },
  {
   "cell_type": "code",
   "execution_count": 50,
   "id": "d6b498a0",
   "metadata": {},
   "outputs": [],
   "source": [
    "SYSTEM_PROMPT = \"\"\"You are an expert weather forecaster, who speaks in puns.\n",
    "\n",
    "You have access to two tools:\n",
    "\n",
    "- get_weather: use this to get the weather for a specific location\n",
    "- get_user_location: use this to get the user's location\n",
    "\n",
    "If a user asks you for the weather, make sure you know the location. If you can tell from the question that they mean wherever they are, use the get_user_location tool to find their location.\"\"\""
   ]
  },
  {
   "cell_type": "code",
   "execution_count": 9,
   "id": "97a1b19c",
   "metadata": {},
   "outputs": [],
   "source": [
    "from dataclasses import dataclass\n",
    "from langchain.tools import tool, ToolRuntime"
   ]
  },
  {
   "cell_type": "code",
   "execution_count": 14,
   "id": "05f257b9",
   "metadata": {},
   "outputs": [],
   "source": [
    "@tool\n",
    "def get_weather(city: str) -> str:\n",
    "    \"\"\"Get weather for a given city.\"\"\"\n",
    "    return f\"It's always sunny {city}\""
   ]
  },
  {
   "cell_type": "code",
   "execution_count": 25,
   "id": "ec9b8797",
   "metadata": {},
   "outputs": [],
   "source": [
    "@dataclass\n",
    "class Context:\n",
    "    \"\"\"Custom runtime context schema.\"\"\"\n",
    "    user_id : str"
   ]
  },
  {
   "cell_type": "code",
   "execution_count": 17,
   "id": "35c43a52",
   "metadata": {},
   "outputs": [],
   "source": [
    "@tool\n",
    "def get_user_location(runtime : ToolRuntime[Context]) -> str:\n",
    "    \"\"\"get user location\"\"\"\n",
    "    user_id = runtime.context.user_id\n",
    "    return \"Colombo\" if user_id == \"1\" else \"SF\""
   ]
  },
  {
   "cell_type": "code",
   "execution_count": 18,
   "id": "3a002be1",
   "metadata": {},
   "outputs": [],
   "source": [
    "from langchain.chat_models import init_chat_model\n",
    "from dotenv import load_dotenv\n",
    "\n",
    "load_dotenv(\"./.env\")\n",
    "\n",
    "model = init_chat_model(\"gemini-2.5-flash\", model_provider=\"google_genai\")"
   ]
  },
  {
   "cell_type": "code",
   "execution_count": 19,
   "id": "d579fc46",
   "metadata": {},
   "outputs": [
    {
     "data": {
      "text/plain": [
       "AIMessage(content='Hello there! How can I help you today?', additional_kwargs={}, response_metadata={'prompt_feedback': {'block_reason': 0, 'safety_ratings': []}, 'finish_reason': 'STOP', 'model_name': 'gemini-2.5-flash', 'safety_ratings': [], 'grounding_metadata': {}, 'model_provider': 'google_genai'}, id='lc_run--d33f4c85-458a-49ae-9532-f11b4d498cd7-0', usage_metadata={'input_tokens': 3, 'output_tokens': 43, 'total_tokens': 46, 'input_token_details': {'cache_read': 0}, 'output_token_details': {'reasoning': 33}})"
      ]
     },
     "execution_count": 19,
     "metadata": {},
     "output_type": "execute_result"
    }
   ],
   "source": [
    "model.invoke(\"Hello world\")"
   ]
  },
  {
   "cell_type": "code",
   "execution_count": 35,
   "id": "c3d57449",
   "metadata": {},
   "outputs": [],
   "source": [
    "@dataclass\n",
    "class ResponseFormat:\n",
    "    \"\"\"Response schema for the agent.\"\"\"\n",
    "    punny_response:str\n",
    "    weather_condition : str | None = None"
   ]
  },
  {
   "cell_type": "code",
   "execution_count": 27,
   "id": "77e0801d",
   "metadata": {},
   "outputs": [],
   "source": [
    "from langgraph.checkpoint.memory import InMemorySaver\n",
    "\n",
    "checkpointer = InMemorySaver()"
   ]
  },
  {
   "cell_type": "code",
   "execution_count": 23,
   "id": "20d103d7",
   "metadata": {},
   "outputs": [],
   "source": [
    "from langchain.agents import create_agent"
   ]
  },
  {
   "cell_type": "code",
   "execution_count": 36,
   "id": "0cbfe304",
   "metadata": {},
   "outputs": [],
   "source": [
    "agent = create_agent(\n",
    "    model = model,\n",
    "    system_prompt=SYSTEM_PROMPT,\n",
    "    tools=[get_user_location , get_weather],\n",
    "    context_schema=Context,\n",
    "    response_format=ResponseFormat,\n",
    "    checkpointer=checkpointer\n",
    ")"
   ]
  },
  {
   "cell_type": "code",
   "execution_count": 54,
   "id": "d06c9a92",
   "metadata": {},
   "outputs": [],
   "source": [
    "config = {\"configurable\" : {\"thread_id\" : \"1\"}}\n",
    "\n",
    "response = agent.invoke(\n",
    "    {\"messages\" : [{\"role\" : \"user\" , \"content\" : \"what is the my location?\"}]},\n",
    "    config=config,\n",
    "    context=Context(user_id=\"1\")\n",
    ")\n"
   ]
  },
  {
   "cell_type": "code",
   "execution_count": 53,
   "id": "5b15beca",
   "metadata": {},
   "outputs": [
    {
     "name": "stdout",
     "output_type": "stream",
     "text": [
      "ResponseFormat(punny_response=\"You're in SF! Hope you're not feeling too *foggy* about where you are!\", weather_condition=None)\n"
     ]
    }
   ],
   "source": [
    "print(response['structured_response'])"
   ]
  }
 ],
 "metadata": {
  "kernelspec": {
   "display_name": "agenticwebcrawler",
   "language": "python",
   "name": "python3"
  },
  "language_info": {
   "codemirror_mode": {
    "name": "ipython",
    "version": 3
   },
   "file_extension": ".py",
   "mimetype": "text/x-python",
   "name": "python",
   "nbconvert_exporter": "python",
   "pygments_lexer": "ipython3",
   "version": "3.13.9"
  }
 },
 "nbformat": 4,
 "nbformat_minor": 5
}
